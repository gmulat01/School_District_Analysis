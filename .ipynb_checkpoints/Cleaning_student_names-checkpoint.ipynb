{
 "cells": [
  {
   "cell_type": "code",
   "execution_count": null,
   "id": "17122d07",
   "metadata": {},
   "outputs": [],
   "source": [
    "# dependencies\n",
    "import pandas as pd\n",
    "import numpy as np\n",
    "\n",
    "# files to load\n",
    "\n",
    "school_data_to_load = \"Resources/schools_complete.csv\"\n",
    "student_data_to_load = \"Resources/students_complete.csv\"\n",
    "\n",
    "# Read the school data file and store it in a Pandas DataFrame.\n",
    "school_data_df = pd.read_csv(school_data_to_load)\n",
    "school_data_df.head()"
   ]
  },
  {
   "cell_type": "code",
   "execution_count": null,
   "id": "73ee85d7",
   "metadata": {},
   "outputs": [],
   "source": [
    "# Read the school data file and store it in a Pandas DataFrame.\n",
    "student_data_df = pd.read_csv(student_data_to_load)\n",
    "student_data_df.head()"
   ]
  },
  {
   "cell_type": "code",
   "execution_count": null,
   "id": "486d6220",
   "metadata": {},
   "outputs": [],
   "source": [
    "# Determine if there are any missing values in the school data.\n",
    "school_data_df.count()"
   ]
  },
  {
   "cell_type": "code",
   "execution_count": null,
   "id": "6314fe6f",
   "metadata": {},
   "outputs": [],
   "source": [
    "# Determine if there are any missing values in the student data.\n",
    "student_data_df.count()"
   ]
  },
  {
   "cell_type": "code",
   "execution_count": null,
   "id": "9ddbebaf",
   "metadata": {},
   "outputs": [],
   "source": [
    "# Determine if there are any missing values in the school data.\n",
    "school_data_df.isnull()"
   ]
  },
  {
   "cell_type": "code",
   "execution_count": null,
   "id": "9e954f20",
   "metadata": {},
   "outputs": [],
   "source": [
    "# Determine if there are any missing values in the school data.\n",
    "school_data_df.isnull().sum()"
   ]
  },
  {
   "cell_type": "code",
   "execution_count": null,
   "id": "816c08cd",
   "metadata": {},
   "outputs": [],
   "source": [
    "#Determine data types for the school DataFrame\n",
    "\n",
    "school_data_df.dtypes"
   ]
  },
  {
   "cell_type": "code",
   "execution_count": null,
   "id": "6ae3044a",
   "metadata": {},
   "outputs": [],
   "source": [
    "#Determine data types for the student DataFrame\n",
    "\n",
    "student_data_df.dtypes"
   ]
  },
  {
   "cell_type": "code",
   "execution_count": null,
   "id": "d6b5d627",
   "metadata": {},
   "outputs": [],
   "source": [
    "student_data_df = pd.read_csv(student_data_to_load)\n",
    "student_data_df.head()"
   ]
  },
  {
   "cell_type": "code",
   "execution_count": null,
   "id": "60b82d3b",
   "metadata": {},
   "outputs": [],
   "source": [
    "# put the student names in a list\n",
    "\n",
    "student_names = student_data_df[\"student_name\"].tolist()\n",
    "student_names"
   ]
  },
  {
   "cell_type": "code",
   "execution_count": null,
   "id": "e10b9b70",
   "metadata": {},
   "outputs": [],
   "source": [
    "#Split the student name and determine the length of the split name\n",
    "\n",
    "for name in student_names:\n",
    "    print(name.split(), len(name.split()))"
   ]
  },
  {
   "cell_type": "code",
   "execution_count": null,
   "id": "bef8b923",
   "metadata": {},
   "outputs": [],
   "source": [
    "# Create a new list and use it for the for loop to iterate through the list.\n",
    "students_to_fix = []\n",
    "\n",
    "\n",
    "# Use an if statement to check the length of the name.\n",
    "# If the name is greater than or equal to \"3\", add the name to the list.\n",
    "\n",
    "for name in student_names:\n",
    "    if len(name.split()) >= 3:\n",
    "        students_to_fix.append(name)\n",
    "        \n",
    "# Get the length of the students whose names are greater than or equal to \"3\".\n",
    "len(students_to_fix)"
   ]
  },
  {
   "cell_type": "code",
   "execution_count": null,
   "id": "8145ea49",
   "metadata": {},
   "outputs": [],
   "source": [
    "# Add the prefixes less than or equal to 4 to a new list.\n",
    "prefixes = []\n",
    "for name in students_to_fix:\n",
    "    if len(name.split()[0]) <= 4:\n",
    "        prefixes.append(name.split()[0])\n",
    "\n",
    "print(prefixes)"
   ]
  },
  {
   "cell_type": "code",
   "execution_count": null,
   "id": "81523e0a",
   "metadata": {
    "scrolled": true
   },
   "outputs": [],
   "source": [
    "# Add the suffixes less than or equal to 3 to a new list.\n",
    "suffixes = []\n",
    "for name in students_to_fix:\n",
    "    if len(name.split()[-1]) <= 3:\n",
    "        suffixes.append(name.split()[-1])\n",
    "\n",
    "print(suffixes)"
   ]
  },
  {
   "cell_type": "code",
   "execution_count": null,
   "id": "95a75683",
   "metadata": {},
   "outputs": [],
   "source": [
    "# Get the unique items in the \"prefixes\" list.\n",
    "set(prefixes)"
   ]
  },
  {
   "cell_type": "code",
   "execution_count": null,
   "id": "b329cd68",
   "metadata": {},
   "outputs": [],
   "source": [
    "# Get the unique items in the \"suffixes\" list.\n",
    "set(suffixes)"
   ]
  },
  {
   "cell_type": "code",
   "execution_count": null,
   "id": "e6efc9de",
   "metadata": {},
   "outputs": [],
   "source": [
    "# Strip \"Mrs.\" from the student names\n",
    "for name in students_to_fix:\n",
    "    print(name.strip(\"Mrs.\"))"
   ]
  },
  {
   "cell_type": "code",
   "execution_count": null,
   "id": "edb82cb7",
   "metadata": {},
   "outputs": [],
   "source": [
    "# Replace \"Dr.\" with an empty string.\n",
    "name = \"Dr. Linda Santiago\"\n",
    "name.replace(\"Dr.\", \"\")"
   ]
  },
  {
   "cell_type": "code",
   "execution_count": null,
   "id": "059aa9d4",
   "metadata": {},
   "outputs": [],
   "source": [
    "name = \"Dr. Linda Santiago\"\n",
    "name.replace(\"Dr.\",\"\")"
   ]
  },
  {
   "cell_type": "code",
   "execution_count": null,
   "id": "d9e95c3c",
   "metadata": {},
   "outputs": [],
   "source": [
    "# Add each prefix and suffix to remove to a list.\n",
    "prefixes_suffixes = [\"Dr. \", \"Mr. \",\"Ms. \", \"Mrs. \", \"Miss \", \" MD\", \" DDS\", \" DVM\", \" PhD\"]"
   ]
  },
  {
   "cell_type": "code",
   "execution_count": null,
   "id": "f0a83871",
   "metadata": {},
   "outputs": [],
   "source": [
    "\n",
    "\n",
    "# Iterate through the \"prefixes_suffixes\" list and replace them with an empty space, \"\" when it appears in the student's name.\n",
    "student_data_df[\"student_name\"].str.replace()\n",
    "\n",
    "for word in prefixes_suffixes:\n",
    "    student_data_df[\"student_name\"] = student_data_df[\"student_name\"].str.replace(word,\"\")"
   ]
  },
  {
   "cell_type": "code",
   "execution_count": null,
   "id": "2e6757f9",
   "metadata": {},
   "outputs": [],
   "source": [
    "# Put the cleaned students' names in another list.\n",
    "student_names = student_data_df[\"student_name\"].tolist()\n",
    "student_names"
   ]
  },
  {
   "cell_type": "code",
   "execution_count": null,
   "id": "11d0f2cd",
   "metadata": {},
   "outputs": [],
   "source": [
    "# Create a new list and use it for the for loop to iterate through the list.\n",
    "students_fixed = []\n",
    "\n",
    "# Use an if statement to check the length of the name.\n",
    "\n",
    "# If the name is greater than or equal to 3, add the name to the list.\n",
    "\n",
    "for name in student_names:\n",
    "    if len(name.split()) >= 3:\n",
    "        students_fixed.append(name)\n",
    "\n",
    "# Get the length of the students' names that are greater than or equal to 3.\n",
    "len(students_fixed)"
   ]
  },
  {
   "cell_type": "code",
   "execution_count": null,
   "id": "ba0cce56",
   "metadata": {},
   "outputs": [],
   "source": [
    "print(students_to_fix)"
   ]
  },
  {
   "cell_type": "code",
   "execution_count": null,
   "id": "f4e567ec",
   "metadata": {},
   "outputs": [],
   "source": []
  }
 ],
 "metadata": {
  "kernelspec": {
   "display_name": "PythonData",
   "language": "python",
   "name": "pythondata"
  },
  "language_info": {
   "codemirror_mode": {
    "name": "ipython",
    "version": 3
   },
   "file_extension": ".py",
   "mimetype": "text/x-python",
   "name": "python",
   "nbconvert_exporter": "python",
   "pygments_lexer": "ipython3",
   "version": "3.7.11"
  }
 },
 "nbformat": 4,
 "nbformat_minor": 5
}
